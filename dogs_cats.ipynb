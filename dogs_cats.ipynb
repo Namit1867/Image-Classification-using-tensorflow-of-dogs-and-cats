{
  "nbformat": 4,
  "nbformat_minor": 0,
  "metadata": {
    "colab": {
      "name": "dogs_cats.ipynb",
      "provenance": [],
      "collapsed_sections": []
    },
    "kernelspec": {
      "name": "python3",
      "display_name": "Python 3"
    },
    "accelerator": "GPU"
  },
  "cells": [
    {
      "cell_type": "code",
      "metadata": {
        "id": "oRm4U43tFR18",
        "colab_type": "code",
        "colab": {}
      },
      "source": [
        "#DATASET INFORMATION\n",
        "#ANALYSED DATASET IS DOWNLOADED FROM HERE:- https://www.kaggle.com/c/dogs-vs-cats/data\n",
        "#THIS DATSET CONTAINS THREE FILES \n",
        " '''\n",
        " 1.sampleSubmission.csv\n",
        " 2.test1.zip\n",
        " 3.train.zip\n",
        " \n",
        " '''\n",
        "#TRAIN FOLDER CONTAINS 25000 PHOTOS OF DOGS AND CATS  \n",
        "\n"
      ],
      "execution_count": 6,
      "outputs": []
    },
    {
      "cell_type": "code",
      "metadata": {
        "id": "mT_V677WtW07",
        "colab_type": "code",
        "colab": {}
      },
      "source": [
        "#IMPORT ALL LIBRARIES AND SETTING UP SOME CONSTANTS\n",
        "\n",
        "import numpy as np\n",
        "import pandas as pd\n",
        "import matplotlib.pyplot as plt\n",
        "from keras.preprocessing.image import ImageDataGenerator, load_img\n",
        "from keras.utils import to_categorical\n",
        "from sklearn.model_selection import train_test_split\n",
        "import matplotlib.pyplot as plt\n",
        "import random\n",
        "import os\n",
        "import zipfile\n"
      ],
      "execution_count": null,
      "outputs": []
    },
    {
      "cell_type": "code",
      "metadata": {
        "id": "G6kN7pzhmABQ",
        "colab_type": "code",
        "colab": {}
      },
      "source": [
        "#DATA PREPROCESSING AND EXPLORATION\n",
        "\n",
        "local_zip = '/content/drive/My Drive/dogs-vs-cats.zip'\n",
        "zip_ref = zipfile.ZipFile(local_zip, 'r')\n",
        "zip_ref.extractall('/tmp')\n",
        "zip_ref.close()\n",
        "\n",
        "\n",
        "local_zip = '/tmp/train.zip'\n",
        "zip_ref = zipfile.ZipFile(local_zip, 'r')\n",
        "zip_ref.extractall('/tmp')\n",
        "zip_ref.close()\n",
        "filenames= os.listdir(\"/tmp/train\")\n",
        "\n",
        "image_width=128\n",
        "image_height=128\n",
        "IMAGE_SIZE=(image_width, image_height)\n",
        "IMAGE_CHANNELS=3\n",
        "\n",
        "\n",
        "categories = []\n",
        "for filename in filenames:\n",
        "    category = filename.split('.')[0]\n",
        "    if category == 'dog':\n",
        "        categories.append(1)\n",
        "    else:\n",
        "        categories.append(0)\n",
        "\n",
        "df = pd.DataFrame({\n",
        "    'filename': filenames,\n",
        "    'category': categories\n",
        "})"
      ],
      "execution_count": 9,
      "outputs": []
    },
    {
      "cell_type": "code",
      "metadata": {
        "id": "w1z87Lxpf7Pa",
        "colab_type": "code",
        "colab": {
          "base_uri": "https://localhost:8080/",
          "height": 280
        },
        "outputId": "0b87ef7b-4a40-4d40-e41d-8d7787a72537"
      },
      "source": [
        "df.tail()\n",
        "df['category'].value_counts().plot.bar()"
      ],
      "execution_count": 13,
      "outputs": [
        {
          "output_type": "execute_result",
          "data": {
            "text/plain": [
              "<matplotlib.axes._subplots.AxesSubplot at 0x7f20d28688d0>"
            ]
          },
          "metadata": {
            "tags": []
          },
          "execution_count": 13
        },
        {
          "output_type": "display_data",
          "data": {
            "image/png": "[encoded data removed]",
            "text/plain": [
              "<Figure size 432x288 with 1 Axes>"
            ]
          },
          "metadata": {
            "tags": [],
            "needs_background": "light"
          }
        }
      ]
    },
    {
      "cell_type": "code",
      "metadata": {
        "id": "1IbQabJDghd3",
        "colab_type": "code",
        "colab": {
          "base_uri": "https://localhost:8080/",
          "height": 870
        },
        "outputId": "0e53fca7-2226-4e50-992d-29daac9c146c"
      },
      "source": [
        "#DATA ANALYSIS\n",
        "#BUILDING MODEL\n",
        "\n",
        "from keras.models import Sequential\n",
        "from keras.layers import Conv2D, MaxPooling2D, Dropout, Flatten, Dense, Activation, BatchNormalization\n",
        "\n",
        "# Dropout is use to drop randomly selected neurons.\n",
        "# Flatten converts 2d array into 1 d array\n",
        "#Batch Normalization is use to normalize the output  of previous activation function\n",
        "\n",
        "model = Sequential() #sequential refer to layer stacking \n",
        "\n",
        "model.add(Conv2D(32, (3, 3), activation='relu', input_shape=(image_width, image_height, IMAGE_CHANNELS)))\n",
        "model.add(BatchNormalization())\n",
        "model.add(MaxPooling2D(pool_size=(2, 2)))\n",
        "model.add(Dropout(0.25))\n",
        "\n",
        "model.add(Conv2D(64, (3, 3), activation='relu'))\n",
        "model.add(BatchNormalization()) \n",
        "model.add(MaxPooling2D(pool_size=(2, 2)))\n",
        "model.add(Dropout(0.25))\n",
        "\n",
        "model.add(Conv2D(128, (3, 3), activation='relu'))\n",
        "model.add(BatchNormalization())\n",
        "model.add(MaxPooling2D(pool_size=(2, 2)))\n",
        "model.add(Dropout(0.25))\n",
        "\n",
        "model.add(Flatten())\n",
        "model.add(Dense(256, activation='relu'))\n",
        "model.add(BatchNormalization())\n",
        "model.add(Dropout(0.5))\n",
        "\n",
        "model.add(Dense(256, activation='relu'))\n",
        "model.add(BatchNormalization())\n",
        "model.add(Dropout(0.5))\n",
        "model.add(Dense(2, activation='sigmoid')) #sigmoid as output is less tahn and qual to 2 i.e cat and dog\n",
        "\n",
        "model.compile(loss='categorical_crossentropy', optimizer='adam', metrics=['accuracy'])\n",
        "\n",
        "model.summary()"
      ],
      "execution_count": 14,
      "outputs": [
        {
          "output_type": "stream",
          "text": [
            "Model: \"sequential_1\"\n",
            "_________________________________________________________________\n",
            "Layer (type)                 Output Shape              Param #   \n",
            "=================================================================\n",
            "conv2d_1 (Conv2D)            (None, 126, 126, 32)      896       \n",
            "_________________________________________________________________\n",
            "batch_normalization_1 (Batch (None, 126, 126, 32)      128       \n",
            "_________________________________________________________________\n",
            "max_pooling2d_1 (MaxPooling2 (None, 63, 63, 32)        0         \n",
            "_________________________________________________________________\n",
            "dropout_1 (Dropout)          (None, 63, 63, 32)        0         \n",
            "_________________________________________________________________\n",
            "conv2d_2 (Conv2D)            (None, 61, 61, 64)        18496     \n",
            "_________________________________________________________________\n",
            "batch_normalization_2 (Batch (None, 61, 61, 64)        256       \n",
            "_________________________________________________________________\n",
            "max_pooling2d_2 (MaxPooling2 (None, 30, 30, 64)        0         \n",
            "_________________________________________________________________\n",
            "dropout_2 (Dropout)          (None, 30, 30, 64)        0         \n",
            "_________________________________________________________________\n",
            "conv2d_3 (Conv2D)            (None, 28, 28, 128)       73856     \n",
            "_________________________________________________________________\n",
            "batch_normalization_3 (Batch (None, 28, 28, 128)       512       \n",
            "_________________________________________________________________\n",
            "max_pooling2d_3 (MaxPooling2 (None, 14, 14, 128)       0         \n",
            "_________________________________________________________________\n",
            "dropout_3 (Dropout)          (None, 14, 14, 128)       0         \n",
            "_________________________________________________________________\n",
            "flatten_1 (Flatten)          (None, 25088)             0         \n",
            "_________________________________________________________________\n",
            "dense_1 (Dense)              (None, 256)               6422784   \n",
            "_________________________________________________________________\n",
            "batch_normalization_4 (Batch (None, 256)               1024      \n",
            "_________________________________________________________________\n",
            "dropout_4 (Dropout)          (None, 256)               0         \n",
            "_________________________________________________________________\n",
            "dense_2 (Dense)              (None, 256)               65792     \n",
            "_________________________________________________________________\n",
            "batch_normalization_5 (Batch (None, 256)               1024      \n",
            "_________________________________________________________________\n",
            "dropout_5 (Dropout)          (None, 256)               0         \n",
            "_________________________________________________________________\n",
            "dense_3 (Dense)              (None, 2)                 514       \n",
            "=================================================================\n",
            "Total params: 6,585,282\n",
            "Trainable params: 6,583,810\n",
            "Non-trainable params: 1,472\n",
            "_________________________________________________________________\n"
          ],
          "name": "stdout"
        }
      ]
    },
    {
      "cell_type": "code",
      "metadata": {
        "id": "TBvhJfVsglsm",
        "colab_type": "code",
        "colab": {}
      },
      "source": [
        "# Define learning rate with different decaying methods\n",
        "\n",
        "from keras.callbacks import EarlyStopping, ReduceLROnPlateau\n",
        "earlystop = EarlyStopping(patience=10)\n",
        "learning_rate_reduction = ReduceLROnPlateau(monitor='val_acc', \n",
        "                                            patience=2, \n",
        "                                            verbose=1, \n",
        "                                            factor=0.5, \n",
        "                                            min_lr=0.00001)\n",
        "callbacks = [earlystop, learning_rate_reduction]\n"
      ],
      "execution_count": 15,
      "outputs": []
    },
    {
      "cell_type": "code",
      "metadata": {
        "id": "iqCYDm7IgozG",
        "colab_type": "code",
        "colab": {}
      },
      "source": [
        "#ONE HOT ENCODING TO CATEGORICAL DATA\n",
        "\n",
        "df[\"category\"] = df[\"category\"].replace({0: 'cat', 1: 'dog'}) "
      ],
      "execution_count": 16,
      "outputs": []
    },
    {
      "cell_type": "code",
      "metadata": {
        "id": "rmUEysOMg4tY",
        "colab_type": "code",
        "colab": {}
      },
      "source": [
        "#TAKING 30% OF TARING DATA AS VALIDATION DATA\n",
        "#SPLIT DATA INTO TRAINGING AND TESTING SETS\n",
        "\n",
        "train_df, validate_df = train_test_split(df, test_size=0.30, random_state=42)\n",
        "train_df = train_df.reset_index(drop=True)\n",
        "validate_df = validate_df.reset_index(drop=True)"
      ],
      "execution_count": 17,
      "outputs": []
    },
    {
      "cell_type": "code",
      "metadata": {
        "id": "Vp7jieIbg_94",
        "colab_type": "code",
        "colab": {
          "base_uri": "https://localhost:8080/",
          "height": 34
        },
        "outputId": "584eab83-246c-45b5-b0a4-437ec5c04c8b"
      },
      "source": [
        "#APPLYING DATA AUGMENTATION SO THAT WE HAVE WIDE VARIETY OF IMAGES OPERATIONS SUCH AS ROTATION,ZOOM,RESCALE ,FLIP ARE PERFORMED\n",
        "#APPLYING DATA AUGMENTATION TO PREVENT MODEL FROM OVERFITTING\n",
        "\n",
        "\n",
        "train_datagen = ImageDataGenerator(\n",
        "    rotation_range=15,\n",
        "    rescale=1./255,\n",
        "    shear_range=0.1,\n",
        "    zoom_range=0.2,\n",
        "    horizontal_flip=True,\n",
        "    width_shift_range=0.1,\n",
        "    height_shift_range=0.1\n",
        ")\n",
        "\n",
        "train_generator = train_datagen.flow_from_dataframe(\n",
        "    train_df, \n",
        "    \"/tmp/train\", \n",
        "    x_col='filename',\n",
        "    y_col='category',\n",
        "    target_size=IMAGE_SIZE,\n",
        "    class_mode='categorical',\n",
        "    batch_size=16\n",
        ")"
      ],
      "execution_count": 18,
      "outputs": [
        {
          "output_type": "stream",
          "text": [
            "Found 17500 validated image filenames belonging to 2 classes.\n"
          ],
          "name": "stdout"
        }
      ]
    },
    {
      "cell_type": "code",
      "metadata": {
        "id": "02Yt0J92haO4",
        "colab_type": "code",
        "colab": {
          "base_uri": "https://localhost:8080/",
          "height": 34
        },
        "outputId": "a36f56d1-f96d-4f25-f658-4072c8a86d01"
      },
      "source": [
        "validation_datagen = ImageDataGenerator(rescale=1./255)\n",
        "validation_generator = validation_datagen.flow_from_dataframe(\n",
        "    validate_df, \n",
        "    \"/tmp/train\", \n",
        "    x_col='filename',\n",
        "    y_col='category',\n",
        "    target_size=IMAGE_SIZE,\n",
        "    class_mode='categorical',\n",
        "    batch_size=16\n",
        ")"
      ],
      "execution_count": 19,
      "outputs": [
        {
          "output_type": "stream",
          "text": [
            "Found 7500 validated image filenames belonging to 2 classes.\n"
          ],
          "name": "stdout"
        }
      ]
    },
    {
      "cell_type": "code",
      "metadata": {
        "id": "OJRWslGphqHL",
        "colab_type": "code",
        "colab": {
          "base_uri": "https://localhost:8080/",
          "height": 1000
        },
        "outputId": "67338c86-e2fb-42c2-b17a-57a13ae5afd7"
      },
      "source": [
        "#MODEL EXECUTION\n",
        "\n",
        "history = model.fit_generator(\n",
        "    train_generator, \n",
        "    epochs=30,\n",
        "    validation_data=validation_generator,\n",
        "    validation_steps=validate_df.shape[0]//16,\n",
        "    steps_per_epoch=train_df.shape[0]//16\n",
        "    callbacks=callbacks\n",
        ")"
      ],
      "execution_count": 20,
      "outputs": [
        {
          "output_type": "stream",
          "text": [
            "Epoch 1/30\n",
            "1093/1093 [==============================] - 180s 165ms/step - loss: 0.7008 - accuracy: 0.5743 - val_loss: 0.5455 - val_accuracy: 0.6226\n",
            "Epoch 2/30\n",
            "1093/1093 [==============================] - 174s 159ms/step - loss: 0.6435 - accuracy: 0.6374 - val_loss: 0.6489 - val_accuracy: 0.6543\n",
            "Epoch 3/30\n",
            "1093/1093 [==============================] - 174s 159ms/step - loss: 0.6206 - accuracy: 0.6678 - val_loss: 0.3994 - val_accuracy: 0.6975\n",
            "Epoch 4/30\n",
            "1093/1093 [==============================] - 174s 159ms/step - loss: 0.5749 - accuracy: 0.7009 - val_loss: 0.4860 - val_accuracy: 0.7171\n",
            "Epoch 5/30\n",
            "1093/1093 [==============================] - 175s 160ms/step - loss: 0.5544 - accuracy: 0.7196 - val_loss: 0.3403 - val_accuracy: 0.7384\n",
            "Epoch 6/30\n",
            "1093/1093 [==============================] - 175s 160ms/step - loss: 0.5174 - accuracy: 0.7440 - val_loss: 0.4765 - val_accuracy: 0.7663\n",
            "Epoch 7/30\n",
            "1093/1093 [==============================] - 172s 158ms/step - loss: 0.5021 - accuracy: 0.7590 - val_loss: 0.5424 - val_accuracy: 0.8071\n",
            "Epoch 8/30\n",
            "1093/1093 [==============================] - 170s 156ms/step - loss: 0.4691 - accuracy: 0.7747 - val_loss: 0.4917 - val_accuracy: 0.8125\n",
            "Epoch 9/30\n",
            "1093/1093 [==============================] - 172s 157ms/step - loss: 0.4470 - accuracy: 0.7911 - val_loss: 0.2967 - val_accuracy: 0.8344\n",
            "Epoch 10/30\n",
            "1093/1093 [==============================] - 170s 155ms/step - loss: 0.4262 - accuracy: 0.8082 - val_loss: 0.4757 - val_accuracy: 0.8446\n",
            "Epoch 11/30\n",
            "1093/1093 [==============================] - 171s 156ms/step - loss: 0.4208 - accuracy: 0.8104 - val_loss: 0.2375 - val_accuracy: 0.8426\n",
            "Epoch 12/30\n",
            "1093/1093 [==============================] - 170s 155ms/step - loss: 0.4128 - accuracy: 0.8130 - val_loss: 0.4936 - val_accuracy: 0.7051\n",
            "Epoch 13/30\n",
            "1093/1093 [==============================] - 170s 155ms/step - loss: 0.3946 - accuracy: 0.8217 - val_loss: 0.4945 - val_accuracy: 0.8165\n",
            "Epoch 14/30\n",
            "1093/1093 [==============================] - 168s 154ms/step - loss: 0.4024 - accuracy: 0.8186 - val_loss: 0.5490 - val_accuracy: 0.8532\n",
            "Epoch 15/30\n",
            "1093/1093 [==============================] - 168s 154ms/step - loss: 0.3824 - accuracy: 0.8285 - val_loss: 0.4001 - val_accuracy: 0.8014\n",
            "Epoch 16/30\n",
            "1093/1093 [==============================] - 168s 154ms/step - loss: 0.3741 - accuracy: 0.8321 - val_loss: 0.3931 - val_accuracy: 0.8724\n",
            "Epoch 17/30\n",
            "1093/1093 [==============================] - 169s 155ms/step - loss: 0.3630 - accuracy: 0.8398 - val_loss: 0.3836 - val_accuracy: 0.8399\n",
            "Epoch 18/30\n",
            "1093/1093 [==============================] - 169s 155ms/step - loss: 0.3623 - accuracy: 0.8397 - val_loss: 0.7621 - val_accuracy: 0.7054\n",
            "Epoch 19/30\n",
            "1093/1093 [==============================] - 169s 154ms/step - loss: 0.3536 - accuracy: 0.8436 - val_loss: 0.3798 - val_accuracy: 0.8572\n",
            "Epoch 20/30\n",
            "1093/1093 [==============================] - 168s 154ms/step - loss: 0.3482 - accuracy: 0.8479 - val_loss: 0.1862 - val_accuracy: 0.8526\n",
            "Epoch 21/30\n",
            "1093/1093 [==============================] - 170s 156ms/step - loss: 0.3386 - accuracy: 0.8538 - val_loss: 0.2928 - val_accuracy: 0.8760\n",
            "Epoch 22/30\n",
            "1093/1093 [==============================] - 173s 158ms/step - loss: 0.3366 - accuracy: 0.8542 - val_loss: 0.3123 - val_accuracy: 0.8757\n",
            "Epoch 23/30\n",
            "1093/1093 [==============================] - 171s 157ms/step - loss: 0.3271 - accuracy: 0.8584 - val_loss: 0.2954 - val_accuracy: 0.8740\n",
            "Epoch 24/30\n",
            "1093/1093 [==============================] - 173s 158ms/step - loss: 0.3320 - accuracy: 0.8586 - val_loss: 0.5296 - val_accuracy: 0.8524\n",
            "Epoch 25/30\n",
            "1093/1093 [==============================] - 172s 158ms/step - loss: 0.3212 - accuracy: 0.8631 - val_loss: 0.3474 - val_accuracy: 0.9035\n",
            "Epoch 26/30\n",
            "1093/1093 [==============================] - 173s 158ms/step - loss: 0.3192 - accuracy: 0.8652 - val_loss: 0.3762 - val_accuracy: 0.8970\n",
            "Epoch 27/30\n",
            "1093/1093 [==============================] - 173s 158ms/step - loss: 0.3135 - accuracy: 0.8668 - val_loss: 0.2817 - val_accuracy: 0.8956\n",
            "Epoch 28/30\n",
            "1093/1093 [==============================] - 170s 156ms/step - loss: 0.3084 - accuracy: 0.8719 - val_loss: 0.4919 - val_accuracy: 0.9021\n",
            "Epoch 29/30\n",
            "1093/1093 [==============================] - 170s 156ms/step - loss: 0.3082 - accuracy: 0.8673 - val_loss: 0.8033 - val_accuracy: 0.8888\n",
            "Epoch 30/30\n",
            "1093/1093 [==============================] - 171s 156ms/step - loss: 0.3136 - accuracy: 0.8674 - val_loss: 0.1256 - val_accuracy: 0.9053\n"
          ],
          "name": "stdout"
        }
      ]
    },
    {
      "cell_type": "code",
      "metadata": {
        "id": "bq2yN2wfhsd7",
        "colab_type": "code",
        "colab": {}
      },
      "source": [
        "model_df = pd.DataFrame(history.history)\n",
        "model_df.to_csv(\"model_history\", index=False)"
      ],
      "execution_count": 21,
      "outputs": []
    },
    {
      "cell_type": "code",
      "metadata": {
        "id": "xkRiwKzhSpkC",
        "colab_type": "code",
        "colab": {}
      },
      "source": [
        "model.save('model_second.h5')"
      ],
      "execution_count": 23,
      "outputs": []
    },
    {
      "cell_type": "code",
      "metadata": {
        "id": "O35D2mxv_WV-",
        "colab_type": "code",
        "colab": {
          "base_uri": "https://localhost:8080/",
          "height": 294
        },
        "outputId": "4052f9df-17d7-4b84-8d72-ea896e321b99"
      },
      "source": [
        "plt.plot(history.history['loss'], color='g', label=\"Training loss\")\n",
        "plt.plot(history.history['val_loss'], color='y', label=\"validation loss\")\n",
        "\n",
        "plt.xlabel(\"Epoch\")\n",
        "plt.ylabel(\"Loss\")\n",
        "plt.title(\"Evolution Of Loss Function\")\n",
        "\n",
        "plt.legend()\n",
        "plt.show()"
      ],
      "execution_count": 28,
      "outputs": [
        {
          "output_type": "display_data",
          "data": {
            "image/png": "[encoded data removed]",
            "text/plain": [
              "<Figure size 432x288 with 1 Axes>"
            ]
          },
          "metadata": {
            "tags": [],
            "needs_background": "light"
          }
        }
      ]
    }
  ]
}